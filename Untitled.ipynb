{
 "cells": [
  {
   "cell_type": "code",
   "execution_count": 27,
   "id": "bd9b25f9",
   "metadata": {},
   "outputs": [
    {
     "name": "stdout",
     "output_type": "stream",
     "text": [
      "Requirement already satisfied: statsmodels in /opt/anaconda3/lib/python3.8/site-packages (0.12.2)\n",
      "Requirement already satisfied: scipy>=1.1 in /opt/anaconda3/lib/python3.8/site-packages (from statsmodels) (1.6.2)\n",
      "Requirement already satisfied: pandas>=0.21 in /opt/anaconda3/lib/python3.8/site-packages (from statsmodels) (1.4.3)\n",
      "Requirement already satisfied: patsy>=0.5 in /opt/anaconda3/lib/python3.8/site-packages (from statsmodels) (0.5.1)\n",
      "Requirement already satisfied: numpy>=1.15 in /opt/anaconda3/lib/python3.8/site-packages (from statsmodels) (1.21.2)\n",
      "Requirement already satisfied: pytz>=2020.1 in /opt/anaconda3/lib/python3.8/site-packages (from pandas>=0.21->statsmodels) (2022.1)\n",
      "Requirement already satisfied: python-dateutil>=2.8.1 in /opt/anaconda3/lib/python3.8/site-packages (from pandas>=0.21->statsmodels) (2.8.2)\n",
      "Requirement already satisfied: six in /opt/anaconda3/lib/python3.8/site-packages (from patsy>=0.5->statsmodels) (1.15.0)\n",
      "Note: you may need to restart the kernel to use updated packages.\n"
     ]
    }
   ],
   "source": [
    "pip install statsmodels"
   ]
  },
  {
   "cell_type": "code",
   "execution_count": 1,
   "id": "638efcf8",
   "metadata": {},
   "outputs": [],
   "source": [
    "import pandas as pd\n",
    "import numpy as np\n",
    "import matplotlib.pyplot as plt\n"
   ]
  },
  {
   "cell_type": "code",
   "execution_count": 2,
   "id": "83162cd0",
   "metadata": {},
   "outputs": [],
   "source": [
    "df = pd.read_csv('prices.txt', delim_whitespace=True, header = None)"
   ]
  },
  {
   "cell_type": "code",
   "execution_count": 11,
   "id": "0db9e93b",
   "metadata": {},
   "outputs": [
    {
     "name": "stdout",
     "output_type": "stream",
     "text": [
      "0.3461918892185969\n",
      "-0.14785608674222564\n",
      "-0.1233958538993195\n",
      "-0.593031875463311\n",
      "-0.024857071836932663\n",
      "0.14917951268026425\n",
      "-0.24826216484608096\n",
      "0.2986560477849613\n",
      "-0.04962779156326557\n",
      "0.4716981132075415\n",
      "0.17296763034346502\n",
      "-0.04933399111987178\n",
      "0.4442250740375116\n",
      "0.29484029484028856\n",
      "-0.2204801567858976\n",
      "-0.14731156395775882\n",
      "-0.17211703958691982\n",
      "0.4187192118226643\n",
      "0.5641402992396293\n",
      "0.07317073170731984\n"
     ]
    }
   ],
   "source": [
    "for i in range(len(df.columns)):\n",
    "    store = df.iloc[:, i].values\n",
    "    new_store = list()\n",
    "    for j in range(1, len(store)):\n",
    "        new_store.append(((store[j] - store[j-1])/store[j-1]) * 100)\n",
    "    avg = sum(new_store)/len(new_store)"
   ]
  },
  {
   "cell_type": "code",
   "execution_count": null,
   "id": "c3413dd7",
   "metadata": {},
   "outputs": [],
   "source": [
    "df[]"
   ]
  }
 ],
 "metadata": {
  "kernelspec": {
   "display_name": "Python 3",
   "language": "python",
   "name": "python3"
  },
  "language_info": {
   "codemirror_mode": {
    "name": "ipython",
    "version": 3
   },
   "file_extension": ".py",
   "mimetype": "text/x-python",
   "name": "python",
   "nbconvert_exporter": "python",
   "pygments_lexer": "ipython3",
   "version": "3.8.8"
  }
 },
 "nbformat": 4,
 "nbformat_minor": 5
}
