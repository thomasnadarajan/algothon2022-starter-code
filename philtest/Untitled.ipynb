{
 "cells": [
  {
   "cell_type": "code",
   "execution_count": 1,
   "id": "f1809dff",
   "metadata": {
    "scrolled": true
   },
   "outputs": [
    {
     "name": "stdout",
     "output_type": "stream",
     "text": [
      "new index\n",
      "[ 1  2  6  8 10 12 14 21 31 32 36 40 44 49 52 54 57 60 68 71 74 76 80 89\n",
      " 91 92 95 97]\n",
      "0.9377137179568872\n",
      "new index\n",
      "[11 12 14 18 21 29 31 32 34 36 39 40 44 49 51 52 54 57 60 67 68 71 74 76\n",
      " 80 87 89 91]\n",
      "0.8088960472003385\n",
      "new index\n",
      "[12 14 18 21 22 29 31 32 34 36 39 44 49 51 52 54 57 60 67 68 70 71 74 76\n",
      " 80 89 91 95]\n",
      "0.9353108614435482\n"
     ]
    }
   ],
   "source": [
    "import differencing"
   ]
  },
  {
   "cell_type": "code",
   "execution_count": null,
   "id": "7bd6277b",
   "metadata": {},
   "outputs": [],
   "source": []
  },
  {
   "cell_type": "code",
   "execution_count": null,
   "id": "804a108f",
   "metadata": {},
   "outputs": [],
   "source": []
  }
 ],
 "metadata": {
  "kernelspec": {
   "display_name": "Python 3",
   "language": "python",
   "name": "python3"
  },
  "language_info": {
   "codemirror_mode": {
    "name": "ipython",
    "version": 3
   },
   "file_extension": ".py",
   "mimetype": "text/x-python",
   "name": "python",
   "nbconvert_exporter": "python",
   "pygments_lexer": "ipython3",
   "version": "3.8.8"
  }
 },
 "nbformat": 4,
 "nbformat_minor": 5
}
